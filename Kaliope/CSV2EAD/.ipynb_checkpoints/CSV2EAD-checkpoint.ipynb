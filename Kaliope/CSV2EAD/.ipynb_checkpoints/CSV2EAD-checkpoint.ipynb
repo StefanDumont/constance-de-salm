{
 "cells": [
  {
   "cell_type": "markdown",
   "metadata": {},
   "source": [
    "## EAD2CSV\n",
    "The purpose of this python 3 notebook is to convert a simple csv file to a EAD xml file."
   ]
  },
  {
   "cell_type": "markdown",
   "metadata": {},
   "source": [
    "## Modules import\n",
    "Lets start by importing the modules that will be necessary to accomplish the conversion."
   ]
  },
  {
   "cell_type": "code",
   "execution_count": 1,
   "metadata": {},
   "outputs": [],
   "source": [
    "import numpy as np\n",
    "import pandas as pd"
   ]
  },
  {
   "cell_type": "markdown",
   "metadata": {},
   "source": [
    "df = pd.read_csv(\"./../Tables/ReferentielNoms.csv\",converters={\"FormesNonNormalisées\": literal_eval}).set_index(\"NomNormalisé\")"
   ]
  },
  {
   "cell_type": "code",
   "execution_count": 3,
   "metadata": {},
   "outputs": [],
   "source": [
    "def importCSV(Path, PO):\n",
    "    \"\"\"\n",
    "    this function takes 2 arguments.\n",
    "    - Path : the relative path to the csv file to open.\n",
    "    - PO : a list of the rows to read as python objects and not just as strings.\n",
    "    \"\"\"\n",
    "    POD = {}\n",
    "    for el in PO :\n",
    "        POD[el] = literal_eval\n",
    "    \n",
    "    df = pd.read_csv(Path, converters=POD)"
   ]
  },
  {
   "cell_type": "code",
   "execution_count": null,
   "metadata": {},
   "outputs": [],
   "source": []
  }
 ],
 "metadata": {
  "kernelspec": {
   "display_name": "Python 3",
   "language": "python",
   "name": "python3"
  },
  "language_info": {
   "codemirror_mode": {
    "name": "ipython",
    "version": 3
   },
   "file_extension": ".py",
   "mimetype": "text/x-python",
   "name": "python",
   "nbconvert_exporter": "python",
   "pygments_lexer": "ipython3",
   "version": "3.8.5"
  }
 },
 "nbformat": 4,
 "nbformat_minor": 4
}

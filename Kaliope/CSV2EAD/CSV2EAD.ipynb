{
 "cells": [
  {
   "cell_type": "markdown",
   "metadata": {},
   "source": [
    "## EAD2CSV\n",
    "The purpose of this python 3 notebook is to convert a simple csv file to a EAD xml file."
   ]
  },
  {
   "cell_type": "markdown",
   "metadata": {},
   "source": [
    "## Modules import\n",
    "Lets start by importing the modules that will be necessary to accomplish the conversion."
   ]
  },
  {
   "cell_type": "code",
   "execution_count": 1,
   "metadata": {},
   "outputs": [],
   "source": [
    "import numpy as np\n",
    "import pandas as pd\n",
    "from ast import literal_eval\n",
    "from datetime import datetime"
   ]
  },
  {
   "cell_type": "code",
   "execution_count": null,
   "metadata": {},
   "outputs": [],
   "source": []
  },
  {
   "cell_type": "code",
   "execution_count": 2,
   "metadata": {},
   "outputs": [],
   "source": [
    "def importCSV(Path, PO):\n",
    "    \"\"\"\n",
    "    This function imports a CSV as a dataframe and transforms some of its columns in python objects.\n",
    "    It takes 2 arguments.\n",
    "    - Path : the relative path to the csv file to open.\n",
    "    - PO : a list of the rows to read as python objects and not just as strings.\n",
    "    \"\"\"\n",
    "    POD = {}\n",
    "    for el in PO :\n",
    "        POD[el] = literal_eval\n",
    "    \n",
    "    df = pd.read_csv(Path, converters=POD)\n",
    "    return (df)"
   ]
  },
  {
   "cell_type": "code",
   "execution_count": 3,
   "metadata": {},
   "outputs": [],
   "source": [
    "def Csv2Cmi(row):\n",
    "    \"\"\"\n",
    "    This function converts csv files to xml-EAD files.\n",
    "    It takes X arguments :\n",
    "    \"\"\"\n",
    "    DateEd = datetime.today().strftime('%Y%m%d')\n",
    "    DateEd2 = datetime.today().strftime('%d-%m-%Y')\n",
    "    MentionnedPers = []\n",
    "    for i in range (0,len(row.WeitPersonen)-1) :\n",
    "        MentionnedPers.append('<persname role=\"Erwähnte Person\" source=\"GND\" authfilenumber=\"%s\">%s</persname>' %(row.WeitPersonen[i],row.WeitPersonenID[i]))\n",
    "    \n",
    "    return ('<c level=\"class\" id=\"%s\" audience=\"external\">' %(row.Key) \n",
    "            #+ '<did><repository><corpname role=\"Aufbewahrungsort\">%s</corpname></repository>' %(row.Bestand)\n",
    "            #+ '<origination><persname role=\"Bestandsbildner\" source=\"GND\" authfilenumber=\"%s\">' %(row.BestandsbildnerID)\n",
    "            #+ '%s</persname></origination>' %(row.Bestandsbildner)\n",
    "            #+ '<unittitle label=\"Titel\">%s</unittitle>' %(row.Bestand)\n",
    "            #+ '<unitdate label=\"Datum\" type=\"inclusive\" normal=\"'\n",
    "            + str(DateEd)\n",
    "            + '\">%s</unitdate>' %(str(DateEd2))\n",
    "            + '<physdesc label=\"Angaben zum Material\"><extent label=\"Umfang\">%s</extent>' %(row.Umfang)\n",
    "            + '<physfacet label=\"Erhaltungszustand\">%s</physfacet>' %(row.Vollstandigkeit)\n",
    "            + '<physloc label=\"Standort\">%s</physloc>' %(row.Bestand)\n",
    "            + '<dao xlink:type=\"simple\" xlink:href=\"%s\" xlink:title=\"URL %s\" xlink:show=\"embed\" xlink:actuate=\"onLoad\"/></did>' %(row.Url, row.Key)\n",
    "            + '<accessrestrict><head>Sperrvermerk</head><p>Benutzbar</p></accessrestrict>'\n",
    "            + '<arrangement><head>Ordnungszustand</head><p>Katalogisiert</p></arrangement>'\n",
    "            + '<bibliography><head>Bibliographie</head><bibliography><head>Editionshinweise</head><p>%s</p></bibliography>' %(row.Zitierempfehlung)\n",
    "            + '<controlaccess><head>Personen</head>'\n",
    "            + ''.join(MentionnedPers))\n",
    "        "
   ]
  },
  {
   "cell_type": "code",
   "execution_count": 4,
   "metadata": {},
   "outputs": [
    {
     "name": "stdout",
     "output_type": "stream",
     "text": [
      "<c level=\"class\" id=\"222\" audience=\"external\">20210728\">28-07-2021</unitdate><physdesc label=\"Angaben zum Material\"><extent label=\"Umfang\">4</extent><physfacet label=\"Erhaltungszustand\">ja</physfacet><physloc label=\"Standort\">234</physloc><dao xlink:type=\"simple\" xlink:href=\"https://constance-de-salm.de/archiv/#/document/2994\" xlink:title=\"URL 222\" xlink:show=\"embed\" xlink:actuate=\"onLoad\"/></did><accessrestrict><head>Sperrvermerk</head><p>Benutzbar</p></accessrestrict><arrangement><head>Ordnungszustand</head><p>Katalogisiert</p></arrangement><bibliography><head>Bibliographie</head><bibliography><head>Editionshinweise</head><p>C08/S68/111-112. In: Die Korrespondenz der Constance de Salm (1767-1845). Inventar des Fonds Salm der Société des Amis du Vieux Toulon et de sa Région und des Bestands Constance de Salm im Archiv Schloss Dyck (Mitgliedsarchiv der Vereinigten Adelsarchive im Rheinland e.V.). Elektronische Edition, DHI Paris 2020. https://constance-de-salm.de/archiv/#/document/2994</p></bibliography><controlaccess><head>Personen</head><persname role=\"Erwähnte Person\" source=\"GND\" authfilenumber=\"Sobry, Jean-François\">192</persname>\n"
     ]
    }
   ],
   "source": [
    "print ('\\n'.join(importCSV('./../fichiertest.csv', ['WeitPersonen', 'WeitPersonenID']).apply(Csv2Cmi, axis=1)))"
   ]
  },
  {
   "cell_type": "raw",
   "metadata": {},
   "source": [
    "\n",
    "def convert_row(row):\n",
    "    return \"\"\"<movietitle=\"%s\">\n",
    "    <type>%s</type>\n",
    "    <format>%s</format>\n",
    "    <year>%s</year>\n",
    "    <rating>%s</rating>\n",
    "    <stars>%s</stars>\n",
    "    <description>%s</description>\n",
    "</movie>\"\"\" % (\n",
    "    row.Title, row.Type, row.Format, row.Year, row.Rating, row.Stars, row.Description)\n",
    "\n",
    "print ('\\n'.join(df.apply(convert_row, axis=1)))\n"
   ]
  },
  {
   "cell_type": "code",
   "execution_count": null,
   "metadata": {},
   "outputs": [],
   "source": []
  },
  {
   "cell_type": "code",
   "execution_count": null,
   "metadata": {},
   "outputs": [],
   "source": []
  }
 ],
 "metadata": {
  "kernelspec": {
   "display_name": "Python 3",
   "language": "python",
   "name": "python3"
  },
  "language_info": {
   "codemirror_mode": {
    "name": "ipython",
    "version": 3
   },
   "file_extension": ".py",
   "mimetype": "text/x-python",
   "name": "python",
   "nbconvert_exporter": "python",
   "pygments_lexer": "ipython3",
   "version": "3.8.5"
  }
 },
 "nbformat": 4,
 "nbformat_minor": 4
}
